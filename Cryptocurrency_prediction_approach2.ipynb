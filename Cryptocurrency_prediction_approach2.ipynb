{
  "nbformat": 4,
  "nbformat_minor": 0,
  "metadata": {
    "colab": {
      "name": "Cryptocurrency prediction - final1",
      "version": "0.3.2",
      "provenance": []
    },
    "kernelspec": {
      "name": "python3",
      "display_name": "Python 3"
    },
    "accelerator": "GPU"
  },
  "cells": [
    {
      "metadata": {
        "id": "5DT8TQkiP5Ot",
        "colab_type": "text"
      },
      "cell_type": "markdown",
      "source": [
        "**Cryptocurrency Prediction using DNN Models**"
      ]
    },
    {
      "metadata": {
        "id": "h15qMUH9QCCH",
        "colab_type": "text"
      },
      "cell_type": "markdown",
      "source": [
        "Import the necessary libraries"
      ]
    },
    {
      "metadata": {
        "id": "Ohmy8cwIP3BL",
        "colab_type": "code",
        "colab": {}
      },
      "cell_type": "code",
      "source": [
        "import pandas as pd\n",
        "import numpy as np\n",
        "import time\n",
        "import matplotlib.pyplot as plt\n",
        "from sklearn.preprocessing import MinMaxScaler\n",
        "\n",
        "from keras import Sequential\n",
        "from keras.layers import Dense, LSTM, CuDNNLSTM, BatchNormalization, Bidirectional, Dropout, Activation"
      ],
      "execution_count": 0,
      "outputs": []
    },
    {
      "metadata": {
        "id": "TyQspvXEQFrc",
        "colab_type": "text"
      },
      "cell_type": "markdown",
      "source": [
        "Load the data from the csv file onto the pandas dataframe."
      ]
    },
    {
      "metadata": {
        "id": "QhRSsmhsZAwc",
        "colab_type": "code",
        "colab": {}
      },
      "cell_type": "code",
      "source": [
        "def _get_data(filename):\n",
        "  df = pd.read_csv(filename, names = ['time','low','high', 'open', 'close', 'volume'], dtype = float)\n",
        "  fig = plt.figure(figsize=(10,8))\n",
        "  df['close'].plot(label='bid')\n",
        "  plt.grid()\n",
        "  plt.legend()\n",
        "  plt.show()\n",
        "  \n",
        "  return df"
      ],
      "execution_count": 0,
      "outputs": []
    },
    {
      "metadata": {
        "id": "g09pNFOHQcZA",
        "colab_type": "text"
      },
      "cell_type": "markdown",
      "source": [
        "The data is normalized using a MinMaxScaler() from Sklearn package. The top 10k samples are taken for testing, as they are the most recent timestamps. The remaining dataset is taken for training."
      ]
    },
    {
      "metadata": {
        "id": "GuGPPKptZobw",
        "colab_type": "code",
        "colab": {}
      },
      "cell_type": "code",
      "source": [
        "def _data_preprocess(df):\n",
        "  data = df.iloc[:,4:5].astype('float').values\n",
        "  \n",
        "  scaler = MinMaxScaler()\n",
        "  data = scaler.fit_transform(data)\n",
        "  \n",
        "  training_set = data[10001:len(data)]\n",
        "  testing_set = data[10000:]\n",
        "  \n",
        "  X_train = training_set[0:len(training_set)-1]\n",
        "  Y_train = training_set[1:len(training_set)]\n",
        "  \n",
        "  X_test = testing_set[0:len(testing_set)-1]\n",
        "  Y_test = testing_set[1:len(testing_set)]\n",
        "  \n",
        "  X_train = np.reshape(X_train, (len(X_train), 1, X_train.shape[1]))\n",
        "  X_test = np.reshape(X_test, (len(X_test),1,X_test.shape[1]))\n",
        "  \n",
        "  return X_train, Y_train, X_test, Y_test, scaler"
      ],
      "execution_count": 0,
      "outputs": []
    },
    {
      "metadata": {
        "id": "E5ex-y4sQ03C",
        "colab_type": "text"
      },
      "cell_type": "markdown",
      "source": [
        "Model1 :  This is a simple 3layer DNN model. It has two layers of LSTM and one dense layer with softmax activation function. The model is compiled with adam optimizer, mean squared error loss function."
      ]
    },
    {
      "metadata": {
        "id": "bo4PEedwWy_0",
        "colab_type": "code",
        "colab": {}
      },
      "cell_type": "code",
      "source": [
        "def _model1(X_train,Y_train):\n",
        "  model = Sequential()\n",
        "  model.add(LSTM(256, return_sequences = True, input_shape=(X_train.shape[1], X_train.shape[2])))\n",
        "\n",
        "  model.add(LSTM(256))\n",
        "  model.add(Dense(1))\n",
        "  \n",
        "  model.compile(loss='mean_squared_error', optimizer='adam')\n",
        "  model.fit(X_train, Y_train, epochs=30, batch_size=64, validation_split=0.1, shuffle=False)\n",
        "  \n",
        "  return model"
      ],
      "execution_count": 0,
      "outputs": []
    },
    {
      "metadata": {
        "id": "YccrdOpjRLt4",
        "colab_type": "text"
      },
      "cell_type": "markdown",
      "source": [
        "Model2 : This is the initial base model. This was just used for comparison purposes. This has three sets of LSTM layers - with each set having one LSTM layer, a dropout layer and a batch normalization. There are two dense layers in the end. "
      ]
    },
    {
      "metadata": {
        "id": "6Sif5oTtlcmh",
        "colab_type": "code",
        "colab": {}
      },
      "cell_type": "code",
      "source": [
        "def _model2(x_train, y_train):\n",
        "  model = Sequential()\n",
        "  model.add(LSTM(128, input_shape=(x_train.shape[1], X_train.shape[2]), return_sequences=True))\n",
        "  model.add(Dropout(0.2))\n",
        "  model.add(BatchNormalization())\n",
        "\n",
        "  model.add(LSTM(128, return_sequences=True))\n",
        "  model.add(Dropout(0.1))\n",
        "  model.add(BatchNormalization())\n",
        "\n",
        "  model.add(LSTM(128))\n",
        "  model.add(Dropout(0.2))\n",
        "  model.add(BatchNormalization())\n",
        "\n",
        "  model.add(Dense(32, activation='relu'))\n",
        "  model.add(Dropout(0.2))\n",
        "\n",
        "  model.add(Dense(1, activation='softmax'))\n",
        "  \n",
        "  model.compile(loss='mean_squared_error', optimizer='adam')\n",
        "  model.fit(x_train, y_train, epochs=10, batch_size=64, shuffle=False)\n",
        "  \n",
        "  return model"
      ],
      "execution_count": 0,
      "outputs": []
    },
    {
      "metadata": {
        "id": "HojXHO2zR7DV",
        "colab_type": "text"
      },
      "cell_type": "markdown",
      "source": [
        "Model3: Bidirectional LSTM is used here. There are three sets of Bidirectional LSTM, each with a dropout layer. Here linear activation function is used. Finally there is a dense layer. The model is compiled with adam optimizer and mean squared error loss function. "
      ]
    },
    {
      "metadata": {
        "id": "3pMCYD3HujGC",
        "colab_type": "code",
        "colab": {}
      },
      "cell_type": "code",
      "source": [
        "def _model3(X_train, Y_train, window_size=32, dropout_value=0.2,activation_function='linear'):\n",
        "  model = Sequential()\n",
        "  model.add(Bidirectional(LSTM(window_size, return_sequences=True), input_shape=(X_train.shape[1],X_train.shape[2]),))\n",
        "  model.add(Dropout(dropout_value))\n",
        "  model.add(Bidirectional(LSTM((window_size*2), return_sequences=True)))\n",
        "  model.add(Dropout(dropout_value))\n",
        "  model.add(Bidirectional(LSTM(window_size, return_sequences=False)))\n",
        "  model.add(Dense(units=1))   \n",
        "  model.add(Activation(activation_function))\n",
        "  model.compile(loss='mean_squared_error', optimizer='adam')\n",
        "  model.fit(X_train, Y_train, epochs=10, batch_size=64, shuffle=False)\n",
        "    \n",
        "  return model"
      ],
      "execution_count": 0,
      "outputs": []
    },
    {
      "metadata": {
        "id": "llvlSAvwSQfW",
        "colab_type": "text"
      },
      "cell_type": "markdown",
      "source": [
        "The predicted prices and the real prices are plotted against each other, to visualize the model performance."
      ]
    },
    {
      "metadata": {
        "id": "y6h3k5Duah5p",
        "colab_type": "code",
        "colab": {}
      },
      "cell_type": "code",
      "source": [
        "def _plot_predictions(model, X_test, Y_test, scaler, fname):\n",
        "  predicted_prices = model.predict(X_test)\n",
        "  predicted_prices = scaler.inverse_transform(predicted_prices)\n",
        "  real_price = scaler.inverse_transform(Y_test)\n",
        "  \n",
        "  plt.figure(figsize=(20,8))\n",
        "  plt.plot(predicted_prices, color='red',label='Predicted prices')\n",
        "  plt.plot(real_price, color='blue', label='Real prices')\n",
        "  plt.title('Predicted vs real prices')\n",
        "  plt.xlabel('Time')\n",
        "  plt.ylabel('Price')\n",
        "  plt.legend(['Predicted price', 'Actual price'], loc='upper left')\n",
        "  #plt.show()\n",
        "  plt.savefig(fname+'-result')"
      ],
      "execution_count": 0,
      "outputs": []
    },
    {
      "metadata": {
        "id": "T7EAUisVSasD",
        "colab_type": "text"
      },
      "cell_type": "markdown",
      "source": [
        "The entire routine is called for each of the four cryptocurrencies."
      ]
    },
    {
      "metadata": {
        "id": "z__Yo5Oh8vaM",
        "colab_type": "code",
        "colab": {}
      },
      "cell_type": "code",
      "source": [
        "def call_procedure(filename, fname):\n",
        "  df = _get_data(filename)\n",
        "  X_train, Y_train, X_test, Y_test, scaler = _data_preprocess(df)\n",
        "  model = _model3(X_train,Y_train)\n",
        "  print(model.summary())\n",
        "  _plot_predictions(model, X_test, Y_test, scaler, fname)"
      ],
      "execution_count": 0,
      "outputs": []
    },
    {
      "metadata": {
        "id": "2AWA2F3g8sUY",
        "colab_type": "code",
        "colab": {}
      },
      "cell_type": "code",
      "source": [
        "def main():\n",
        "  main_df = pd.DataFrame()\n",
        "  ratios = [\"BTC-USD\", \"BTC-USD\", \"ETH-USD\", \"LTC-USD\"]\n",
        "  for ratio in ratios:\n",
        "    print(ratio)\n",
        "    dataset = f'{ratio}.csv'\n",
        "    call_procedure(dataset, ratio)"
      ],
      "execution_count": 0,
      "outputs": []
    },
    {
      "metadata": {
        "id": "8pDCKaAJBYar",
        "colab_type": "code",
        "colab": {}
      },
      "cell_type": "code",
      "source": [
        "if __name__ == '__main__':\n",
        "  main()"
      ],
      "execution_count": 0,
      "outputs": []
    }
  ]
}