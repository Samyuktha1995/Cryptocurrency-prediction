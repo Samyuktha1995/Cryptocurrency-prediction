{
  "nbformat": 4,
  "nbformat_minor": 0,
  "metadata": {
    "colab": {
      "name": "Crypto-prediction Final2",
      "version": "0.3.2",
      "provenance": []
    },
    "kernelspec": {
      "name": "python3",
      "display_name": "Python 3"
    },
    "accelerator": "GPU"
  },
  "cells": [
    {
      "metadata": {
        "id": "x2DLtIUaSrr2",
        "colab_type": "text"
      },
      "cell_type": "markdown",
      "source": [
        "**Crypto currency prediction using DNN models - one hot encoding approach**"
      ]
    },
    {
      "metadata": {
        "id": "L16kLfwuS2R2",
        "colab_type": "text"
      },
      "cell_type": "markdown",
      "source": [
        "Import necessary libraries"
      ]
    },
    {
      "metadata": {
        "id": "Xt49qKaiSp_m",
        "colab_type": "code",
        "colab": {}
      },
      "cell_type": "code",
      "source": [
        "import pandas as pd\n",
        "import numpy as np\n",
        "import time\n",
        "import matplotlib.pyplot as plt\n",
        "\n",
        "from keras import Sequential\n",
        "from keras.layers import Dense, LSTM, CuDNNLSTM\n",
        "from sklearn.preprocessing import MinMaxScaler, StandardScaler"
      ],
      "execution_count": 0,
      "outputs": []
    },
    {
      "metadata": {
        "id": "lYHHbh7BS476",
        "colab_type": "text"
      },
      "cell_type": "markdown",
      "source": [
        "Load the data from csv file to pandas dataframe. The bid value is taken and converted to a list with float values. It is then normalized using standard scaler package from sklearn. "
      ]
    },
    {
      "metadata": {
        "id": "zGg012BN50n-",
        "colab_type": "code",
        "colab": {}
      },
      "cell_type": "code",
      "source": [
        "def get_data(filename):\n",
        "  df = pd.read_csv(filename, names = ['time','low','high', 'open', 'close', 'volume'])\n",
        "  data = df.iloc[:,4:5].astype('float').values\n",
        "  scaler = StandardScaler()\n",
        "  data = scaler.fit_transform(data)\n",
        "  return df, data"
      ],
      "execution_count": 0,
      "outputs": []
    },
    {
      "metadata": {
        "id": "KCuWyYl8ThPE",
        "colab_type": "text"
      },
      "cell_type": "markdown",
      "source": [
        "The peak detection function based on the delta value. This is to determine the local minimas and maximas in the price of the crypto-currency plot."
      ]
    },
    {
      "metadata": {
        "id": "ojQigXk_nD-q",
        "colab_type": "code",
        "colab": {}
      },
      "cell_type": "code",
      "source": [
        "def peakdet(v, delta, x = None):\n",
        "    maximum = []\n",
        "    minimum = []\n",
        "    if x is None:\n",
        "        x = np.arange(len(v))\n",
        "    v = np.asarray(v)\n",
        "    min_val, max_val = np.Inf, -np.Inf\n",
        "    min_pos, max_pos = np.NaN, np.NaN\n",
        "    look_for_max = True\n",
        "    for i in np.arange(len(v)):\n",
        "        this = v[i]\n",
        "        if this > max_val:\n",
        "            max_val = this\n",
        "            max_pos = x[i]\n",
        "        if this < min_val:\n",
        "            min_val = this\n",
        "            min_pos = x[i]\n",
        "\n",
        "        if look_for_max:\n",
        "            if this < max_val-delta:\n",
        "                maximum.append((max_pos, max_val))\n",
        "                min_val = this\n",
        "                min_pos = x[i]\n",
        "                look_for_max = False\n",
        "        else:\n",
        "            if this > min_val+delta:\n",
        "                minimum.append((min_pos, min_val))\n",
        "                max_val = this\n",
        "                max_pos = x[i]\n",
        "                look_for_max = True\n",
        "\n",
        "    return np.array(maximum), np.array(minimum)"
      ],
      "execution_count": 0,
      "outputs": []
    },
    {
      "metadata": {
        "id": "aP7WTE6qTuqT",
        "colab_type": "text"
      },
      "cell_type": "markdown",
      "source": [
        "The real price of the crypto currency is plotted with markings of when to sell, buy and wait."
      ]
    },
    {
      "metadata": {
        "id": "YT5gIG366Z8r",
        "colab_type": "code",
        "colab": {}
      },
      "cell_type": "code",
      "source": [
        "def plot_peak(peaksmax, peaksmin, data):\n",
        "  fig = plt.figure(figsize=(21,7))\n",
        "  plt.plot(peaksmax[:,0], peaksmax[:, 1], 'ro', label=\"Max peaks\")\n",
        "  plt.plot(peaksmin[:,0], peaksmin[:, 1], 'go', label=\"Minimum peaks\")\n",
        "  plt.plot(data, label=\"Bid\")\n",
        "  plt.grid()\n",
        "  plt.title(\"Peaks detection\")\n",
        "  plt.legend()\n",
        "  plt.show()"
      ],
      "execution_count": 0,
      "outputs": []
    },
    {
      "metadata": {
        "id": "E4do5UkVT8t9",
        "colab_type": "text"
      },
      "cell_type": "markdown",
      "source": [
        "All the features of the dataframe are normalized except the time, which is being dropped."
      ]
    },
    {
      "metadata": {
        "id": "1ApQlDVT6uoH",
        "colab_type": "code",
        "colab": {}
      },
      "cell_type": "code",
      "source": [
        "def get_NDF(df):\n",
        "  NDF = df\n",
        "  NDF = NDF.drop(columns = ['time'])\n",
        "  scaler = StandardScaler()\n",
        "  NDF[\"low\"] = scaler.fit_transform(df.iloc[:,1:2].astype('float').values)\n",
        "  NDF[\"high\"] = scaler.fit_transform(df.iloc[:,2:3].astype('float').values)\n",
        "  NDF[\"open\"] = scaler.fit_transform(df.iloc[:,3:4].astype('float').values)\n",
        "  NDF[\"close\"] = scaler.fit_transform(df.iloc[:,4:5].astype('float').values)\n",
        "  return NDF"
      ],
      "execution_count": 0,
      "outputs": []
    },
    {
      "metadata": {
        "id": "I_RdprFJUITp",
        "colab_type": "text"
      },
      "cell_type": "markdown",
      "source": [
        "Three columns that are being added to the dataset - sell, buy and wait. These are the labels and this prediction is converted to a classification problem from a regression problem."
      ]
    },
    {
      "metadata": {
        "id": "mJ6rOlxCnInY",
        "colab_type": "code",
        "colab": {}
      },
      "cell_type": "code",
      "source": [
        "def setSell(idx, peaksmax, peaksmin):\n",
        "    for i in peaksmax:\n",
        "        if i[0] == idx:\n",
        "            return 1.0\n",
        "    for i in peaksmin:\n",
        "        if i[0] == idx:\n",
        "            return 0.0\n",
        "    return 0.0\n",
        "\n",
        "def setWait(idx, peaksmax, peaksmin):\n",
        "    for i in peaksmax:\n",
        "        if i[0] == idx:\n",
        "            return 0.0\n",
        "    for i in peaksmin:\n",
        "        if i[0] == idx:\n",
        "            return 0.0\n",
        "    return 1.0\n",
        "\n",
        "def setBuy(idx, peaksmax, peaksmin):\n",
        "    for i in peaksmax:\n",
        "        if i[0] == idx:\n",
        "            return 0.0\n",
        "    for i in peaksmin:\n",
        "        if i[0] == idx:\n",
        "            return 1.0\n",
        "    return 0.0"
      ],
      "execution_count": 0,
      "outputs": []
    },
    {
      "metadata": {
        "id": "-iXtK9aancdW",
        "colab_type": "code",
        "colab": {}
      },
      "cell_type": "code",
      "source": [
        "def frame_labelization(frame_base, maxp, minp, data):\n",
        "    frame_base[\"wait\"] = [setWait(d, maxp, minp) for d in range(len(data))]\n",
        "    frame_base[\"sell\"] = [setSell(d, maxp, minp) for d in range(len(data))]\n",
        "    frame_base[\"buy\"] = [setBuy(d, maxp, minp) for d in range(len(data))]\n",
        "    return frame_base"
      ],
      "execution_count": 0,
      "outputs": []
    },
    {
      "metadata": {
        "id": "WUkRS9BoUUDq",
        "colab_type": "text"
      },
      "cell_type": "markdown",
      "source": [
        "The dataset is split into training and testing data - with a split of 70% and 30% respectively."
      ]
    },
    {
      "metadata": {
        "id": "OhuYqJpPnrRl",
        "colab_type": "code",
        "colab": {}
      },
      "cell_type": "code",
      "source": [
        "def generate_data(dataset, timestep, xcols, ycols):\n",
        "    dx, dy = [], []\n",
        "    for i in range(len(dataset) - timestep):\n",
        "        a = dataset.iloc[i : i + timestep][xcols]\n",
        "        dx.append(np.array(a))\n",
        "        dy.append(dataset.iloc[i + timestep  - 1][ycols])\n",
        "    return np.array(dx), np.array(dy)\n",
        "\n",
        "def split_train(frame, train_per, test_per, timestep, xcols, ycols, balance=False):\n",
        "    x_tmp, y_tmp = generate_data(frame, timestep, xcols, ycols)\n",
        "    if balance is True:\n",
        "        x_tmp, y_tmp =  balancelabelisation(x_tmp, y_tmp)\n",
        "    train_size = int(x_tmp.shape[0] * train_per)\n",
        "    test_size = int(x_tmp.shape[0] * test_per) + train_size\n",
        "\n",
        "    x_train = x_tmp[: train_size]\n",
        "    y_train = y_tmp[: train_size]\n",
        "    x_test = x_tmp[train_size : test_size]\n",
        "    y_test = y_tmp[train_size : test_size]\n",
        "    return x_train, y_train, x_test, y_test\n",
        "  \n",
        "def balancelabelisation(frame, label):\n",
        "    buy = int(label[:,0].sum())\n",
        "    sell = int(label[:,1].sum())\n",
        "    wait = int(label[:,2].sum())\n",
        "    need_delete = wait - min(sell, buy)\n",
        "    tab_wait = [i for i, l in enumerate(label)if l[2] == 1]\n",
        "    rand_delete = np.random.choice(tab_wait, need_delete, replace=False)\n",
        "    final_frame = np.delete(frame, rand_delete, axis=0)\n",
        "    final_label = np.delete(label, rand_delete, axis=0)\n",
        "    final_frame = np.array(final_frame)\n",
        "    final_label = np.array(final_label)\n",
        "    return final_frame, final_label"
      ],
      "execution_count": 0,
      "outputs": []
    },
    {
      "metadata": {
        "id": "_yyMwnQ6UdN_",
        "colab_type": "text"
      },
      "cell_type": "markdown",
      "source": [
        "Model : Its a simple 3 layer CuDNN LSTM network. CuDNN is to be used with GPU. It does not support dropout layers. There is a softmax layer in the end. The model is compiled with adam optimizer, mean squared error loss and accuracy metric. "
      ]
    },
    {
      "metadata": {
        "id": "8QWb6Y_A7Dm7",
        "colab_type": "code",
        "colab": {}
      },
      "cell_type": "code",
      "source": [
        "def get_model(x_train, y_train):\n",
        "  model = Sequential()\n",
        "  model.add(CuDNNLSTM(256, input_shape=(x_train.shape[1], x_train.shape[2]),return_sequences=True))\n",
        "  model.add(CuDNNLSTM(256))\n",
        "  model.add(Dense(y_train.shape[1], activation='softmax'))\n",
        "\n",
        "  model.compile(optimizer=\"adam\", loss=\"mse\",metrics=['accuracy'])\n",
        "  model.summary()\n",
        "  return model"
      ],
      "execution_count": 0,
      "outputs": []
    },
    {
      "metadata": {
        "id": "yuHVmml-Uxy8",
        "colab_type": "text"
      },
      "cell_type": "markdown",
      "source": [
        "The model is fit with train data with a validation split of 10%. It is then evaluated on the test dataset and the final loss and accuracy are displayed."
      ]
    },
    {
      "metadata": {
        "id": "XcV5o_0Z7Z2k",
        "colab_type": "code",
        "colab": {}
      },
      "cell_type": "code",
      "source": [
        "def evaluate_model(model, x_train, y_train, x_test, y_test):\n",
        "  \n",
        "  hist = model.fit(x_train, y_train, \n",
        "                   epochs=3,\n",
        "                   batch_size=16,\n",
        "                   validation_split=0.1,\n",
        "                   verbose=1)\n",
        "  \n",
        "  score , acc = model.evaluate(x_test, y_test)\n",
        "\n",
        "  print(\"score: {}\".format(score))\n",
        "  print(\"acc: {}\".format(acc))\n",
        "  \n"
      ],
      "execution_count": 0,
      "outputs": []
    },
    {
      "metadata": {
        "id": "eg6PYWQfU9DI",
        "colab_type": "text"
      },
      "cell_type": "markdown",
      "source": [
        "Main function"
      ]
    },
    {
      "metadata": {
        "id": "mCSkVE8am8Sf",
        "colab_type": "code",
        "colab": {}
      },
      "cell_type": "code",
      "source": [
        "def main():\n",
        "  df, data = get_data('LTC-USD.csv')\n",
        "  peaksmax, peaksmin = peakdet(data, 0.0001)\n",
        "  plot_peak(peaksmax, peaksmin, data)\n",
        "  NDF = get_NDF(df)\n",
        "  NDF = NDF[:1000]\n",
        "  df = df[:1000]\n",
        "  normalize_data_tmp = frame_labelization(NDF, peaksmax, peaksmin, df)\n",
        "\n",
        "  labelisation_features_name = [\"low\", \"high\", \"open\", \"close\", \"volume\"]\n",
        "  labelisation_labels_name = [\"wait\", \"sell\", \"buy\"]\n",
        "\n",
        "  x_train, y_train, x_test, y_test = split_train(normalize_data_tmp, 0.7, 0.3, 50, \n",
        "                                                     labelisation_features_name,\n",
        "                                                     labelisation_labels_name,\n",
        "                                                     balance=True)\n",
        "\n",
        "  model = get_model(x_train, y_train)\n",
        "  evaluate_model(model, x_train, y_train, x_test, y_test)\n"
      ],
      "execution_count": 0,
      "outputs": []
    },
    {
      "metadata": {
        "id": "Gk0M0txM6lxU",
        "colab_type": "code",
        "colab": {}
      },
      "cell_type": "code",
      "source": [
        "if __name__ == '__main__':\n",
        "  main()"
      ],
      "execution_count": 0,
      "outputs": []
    }
  ]
}